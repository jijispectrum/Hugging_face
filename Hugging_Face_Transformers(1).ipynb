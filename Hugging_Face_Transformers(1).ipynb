{
 "cells": [
  {
   "cell_type": "code",
   "execution_count": 1,
   "id": "da08085a-1b23-4c69-bbf3-820ccfa586c1",
   "metadata": {},
   "outputs": [
    {
     "name": "stderr",
     "output_type": "stream",
     "text": [
      "C:\\Users\\PYTHON\\anaconda3\\Lib\\site-packages\\transformers\\tokenization_utils_base.py:1601: FutureWarning: `clean_up_tokenization_spaces` was not set. It will be set to `True` by default. This behavior will be depracted in transformers v4.45, and will be then set to `False` by default. For more details check this issue: https://github.com/huggingface/transformers/issues/31884\n",
      "  warnings.warn(\n",
      "C:\\Users\\PYTHON\\anaconda3\\Lib\\site-packages\\transformers\\generation\\utils.py:1258: UserWarning: Using the model-agnostic default `max_length` (=20) to control the generation length. We recommend setting `max_new_tokens` to control the maximum length of the generation.\n",
      "  warnings.warn(\n"
     ]
    },
    {
     "name": "stdout",
     "output_type": "stream",
     "text": [
      "python est bon\n"
     ]
    }
   ],
   "source": [
    "from transformers import AutoModelForSeq2SeqLM, AutoTokenizer\n",
    "\n",
    "# Load FLAN-T5 model and tokenizer\n",
    "model_name = \"google/flan-t5-large\"  # Change to \"flan-t5-small\", \"flan-t5-xl\", etc.\n",
    "tokenizer = AutoTokenizer.from_pretrained(model_name)\n",
    "model = AutoModelForSeq2SeqLM.from_pretrained(model_name)\n",
    "\n",
    "# Input text (instruction-based)\n",
    "input_text = \"Translate 'python is good' to French:\"\n",
    "inputs = tokenizer(input_text, return_tensors=\"pt\")\n",
    "\n",
    "# Generate output\n",
    "outputs = model.generate(**inputs)\n",
    "response = tokenizer.decode(outputs[0], skip_special_tokens=True)\n",
    "\n",
    "print(response)  # Output: J'aime la programmation\n"
   ]
  },
  {
   "cell_type": "code",
   "execution_count": null,
   "id": "9fc7a710-590f-4f52-accf-336c33ffe980",
   "metadata": {},
   "outputs": [],
   "source": []
  },
  {
   "cell_type": "code",
   "execution_count": 2,
   "id": "eeaf8e10-c761-4ec9-9aeb-631e6b6a9c9f",
   "metadata": {},
   "outputs": [
    {
     "name": "stdout",
     "output_type": "stream",
     "text": [
      "chennai\n"
     ]
    }
   ],
   "source": [
    "input_text = \"What is the capital of india?\"\n",
    "inputs = tokenizer(input_text, return_tensors=\"pt\")\n",
    "outputs = model.generate(**inputs)\n",
    "print(tokenizer.decode(outputs[0], skip_special_tokens=True))  # Output: Berlin\n"
   ]
  },
  {
   "cell_type": "code",
   "execution_count": 3,
   "id": "7f552019-cc82-4b7b-bded-4f85fe45051e",
   "metadata": {},
   "outputs": [
    {
     "name": "stdout",
     "output_type": "stream",
     "text": [
      "Artificial intelligence is transforming the world by automating tasks and improving efficiency.\n"
     ]
    }
   ],
   "source": [
    "input_text = \"Summarize: Artificial Intelligence is transforming the world by automating tasks and improving efficiency.\"\n",
    "inputs = tokenizer(input_text, return_tensors=\"pt\")\n",
    "outputs = model.generate(**inputs)\n",
    "print(tokenizer.decode(outputs[0], skip_special_tokens=True))\n"
   ]
  },
  {
   "cell_type": "code",
   "execution_count": 4,
   "id": "3d32b024-7aba-4484-959c-e690b40b1514",
   "metadata": {},
   "outputs": [
    {
     "name": "stdout",
     "output_type": "stream",
     "text": [
      "a lot more complicated than it was in the past.\n"
     ]
    }
   ],
   "source": [
    "input_text = \"Complete the sentence: The future of AI is\"\n",
    "inputs = tokenizer(input_text, return_tensors=\"pt\")\n",
    "outputs = model.generate(**inputs)\n",
    "print(tokenizer.decode(outputs[0], skip_special_tokens=True))\n"
   ]
  },
  {
   "cell_type": "code",
   "execution_count": 18,
   "id": "c878b32f-6df5-40ca-9664-d067403783ae",
   "metadata": {},
   "outputs": [
    {
     "name": "stderr",
     "output_type": "stream",
     "text": [
      "C:\\Users\\PYTHON\\anaconda3\\Lib\\site-packages\\transformers\\generation\\configuration_utils.py:567: UserWarning: `do_sample` is set to `False`. However, `temperature` is set to `1.2` -- this flag is only used in sample-based generation modes. You should set `do_sample=True` or unset `temperature`.\n",
      "  warnings.warn(\n"
     ]
    },
    {
     "name": "stdout",
     "output_type": "stream",
     "text": [
      "Generated Interview Questions:\n",
      " What are some of your favorite programming languages?\n"
     ]
    }
   ],
   "source": [
    "from transformers import AutoTokenizer, AutoModelForSeq2SeqLM\n",
    "model_name = \"google/flan-t5-large\"  \n",
    "tokenizer = AutoTokenizer.from_pretrained(model_name)\n",
    "model = AutoModelForSeq2SeqLM.from_pretrained(model_name)\n",
    "def generate_question(job_description):\n",
    "    prompt = f\"Generate  interview question for the job role: {job_description}\"\n",
    "    \n",
    "    input_ids = tokenizer(prompt, return_tensors=\"pt\").input_ids\n",
    "    outputs = model.generate(input_ids, max_length=100, temperature=0.7, top_p=0.9)\n",
    "    \n",
    "    questions = tokenizer.decode(outputs[0], skip_special_tokens=True)\n",
    "    return questions\n",
    "# Example Job Role\n",
    "job_description = \"Data Scientist with experience in Python, machine learning, and deep learning.\"\n",
    "interview_questions = generate_question(job_description)\n",
    "print(\"Generated Interview Questions:\\n\", interview_questions)\n"
   ]
  },
  {
   "cell_type": "code",
   "execution_count": 20,
   "id": "d6450837-371f-45d1-9b90-c77355b996f8",
   "metadata": {},
   "outputs": [
    {
     "name": "stdout",
     "output_type": "stream",
     "text": [
      "🔥 High Temperature (1.2): What does the job mean?\n",
      "⚖️ Balanced (0.7, 0.9): What are your main skills?\n",
      "🎲 High Creativity (1.0, 1.0): What programming languages do you work with?\n"
     ]
    }
   ],
   "source": [
    "from transformers import AutoTokenizer, AutoModelForSeq2SeqLM\n",
    "\n",
    "# Load FLAN-T5 Model & Tokenizer\n",
    "model_name = \"google/flan-t5-large\"\n",
    "tokenizer = AutoTokenizer.from_pretrained(model_name)\n",
    "model = AutoModelForSeq2SeqLM.from_pretrained(model_name)\n",
    "\n",
    "def generate_question(job_description, temperature=0.7, top_p=0.9):\n",
    "    prompt = f\"Generate an interview question for the job role: {job_description}\"\n",
    "    \n",
    "    input_ids = tokenizer(prompt, return_tensors=\"pt\").input_ids\n",
    "    outputs = model.generate(\n",
    "        input_ids, \n",
    "        max_length=100, \n",
    "        do_sample=True,  # ✅ Enable sampling\n",
    "        temperature=temperature, \n",
    "        top_p=top_p\n",
    "    )\n",
    "    \n",
    "    return tokenizer.decode(outputs[0], skip_special_tokens=True)\n",
    "\n",
    "# Example Job Role\n",
    "job_description = \"Data Scientist with experience in Python, machine learning, and deep learning.\"\n",
    "\n",
    "# Generate with different settings\n",
    "print(\"🔥 High Temperature (1.2):\", generate_question(job_description, temperature=1.2, top_p=0.9))\n",
    "print(\"⚖️ Balanced (0.7, 0.9):\", generate_question(job_description, temperature=0.7, top_p=0.9))\n",
    "print(\"🎲 High Creativity (1.0, 1.0):\", generate_question(job_description, temperature=1.0, top_p=1.0))\n"
   ]
  },
  {
   "cell_type": "code",
   "execution_count": null,
   "id": "1f451dd9-b9a2-4466-a5e9-35ba5e3b5170",
   "metadata": {},
   "outputs": [],
   "source": [
    "    # outputs = model.generate(\n",
    "    #     input_ids, \n",
    "    #     max_length=100,  # Limit the response length to 100 tokens\n",
    "    #     do_sample=True,  # Enable sampling for diverse outputs\n",
    "    #     temperature=temperature,  # Adjust randomness\n",
    "    #     top_p=top_p  # Use nucleus sampling for better quality\n",
    "    # )\n"
   ]
  }
 ],
 "metadata": {
  "kernelspec": {
   "display_name": "Python 3 (ipykernel)",
   "language": "python",
   "name": "python3"
  },
  "language_info": {
   "codemirror_mode": {
    "name": "ipython",
    "version": 3
   },
   "file_extension": ".py",
   "mimetype": "text/x-python",
   "name": "python",
   "nbconvert_exporter": "python",
   "pygments_lexer": "ipython3",
   "version": "3.12.3"
  }
 },
 "nbformat": 4,
 "nbformat_minor": 5
}
